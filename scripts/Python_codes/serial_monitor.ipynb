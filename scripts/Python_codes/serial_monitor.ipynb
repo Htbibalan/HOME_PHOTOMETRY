{
 "cells": [
  {
   "cell_type": "code",
   "execution_count": 1,
   "metadata": {},
   "outputs": [
    {
     "ename": "ModuleNotFoundError",
     "evalue": "No module named 'serial'",
     "output_type": "error",
     "traceback": [
      "\u001b[1;31m---------------------------------------------------------------------------\u001b[0m",
      "\u001b[1;31mModuleNotFoundError\u001b[0m                       Traceback (most recent call last)",
      "Cell \u001b[1;32mIn[1], line 1\u001b[0m\n\u001b[1;32m----> 1\u001b[0m \u001b[38;5;28;01mimport\u001b[39;00m \u001b[38;5;21;01mserial\u001b[39;00m\n\u001b[0;32m      2\u001b[0m \u001b[38;5;28;01mimport\u001b[39;00m \u001b[38;5;21;01mthreading\u001b[39;00m\n\u001b[0;32m      4\u001b[0m \u001b[38;5;28;01mdef\u001b[39;00m \u001b[38;5;21mread_from_port\u001b[39m(ser):\n",
      "\u001b[1;31mModuleNotFoundError\u001b[0m: No module named 'serial'"
     ]
    }
   ],
   "source": [
    "import serial\n",
    "import threading\n",
    "\n",
    "def read_from_port(ser):\n",
    "    with open(f\"{ser.port}_log.txt\", \"w\") as logfile:\n",
    "        while True:\n",
    "            data = ser.readline().decode('utf-8').strip()\n",
    "            print(f\"Data from {ser.port}: {data}\")\n",
    "            logfile.write(data + \"\\n\")\n",
    "\n",
    "ports = ['COM3', 'COM4', 'COM5']  # Replace with your COM ports\n",
    "baud_rate = 9600\n",
    "\n",
    "for port in ports:\n",
    "    ser = serial.Serial(port, baud_rate)\n",
    "    threading.Thread(target=read_from_port, args=(ser,)).start()\n"
   ]
  },
  {
   "cell_type": "code",
   "execution_count": 2,
   "metadata": {},
   "outputs": [
    {
     "name": "stdout",
     "output_type": "stream",
     "text": [
      "Collecting pyserial\n",
      "  Downloading pyserial-3.5-py2.py3-none-any.whl.metadata (1.6 kB)\n",
      "Downloading pyserial-3.5-py2.py3-none-any.whl (90 kB)\n",
      "   ---------------------------------------- 0.0/90.6 kB ? eta -:--:--\n",
      "   ---------------------------------------- 0.0/90.6 kB ? eta -:--:--\n",
      "   ---- ----------------------------------- 10.2/90.6 kB ? eta -:--:--\n",
      "   ------------- -------------------------- 30.7/90.6 kB 330.3 kB/s eta 0:00:01\n",
      "   ------------------------------------ --- 81.9/90.6 kB 657.6 kB/s eta 0:00:01\n",
      "   ---------------------------------------- 90.6/90.6 kB 642.8 kB/s eta 0:00:00\n",
      "Installing collected packages: pyserial\n",
      "Successfully installed pyserial-3.5\n"
     ]
    }
   ],
   "source": [
    "!pip install pyserial\n"
   ]
  },
  {
   "cell_type": "code",
   "execution_count": 3,
   "metadata": {},
   "outputs": [
    {
     "name": "stdout",
     "output_type": "stream",
     "text": [
      "Data from COM16: 8/7/2024 17:13:06,27.98,40.37,1.16.3,FR1,20,3.95,NaN,1,Left,Left,3,4,2,0,NaN,NaN,0.00\n",
      "Data from COM16: 8/7/2024 17:13:12,28.00,40.29,1.16.3,FR1,20,3.94,3,1,Pellet,Left,3,4,3,0,1.32,589,NaN\n",
      "Data from COM16: 8/7/2024 17:13:15,27.99,40.18,1.16.3,FR1,20,3.95,NaN,1,Left,Left,4,4,3,0,NaN,NaN,0.05\n",
      "Data from COM16: 8/7/2024 17:13:19,27.99,40.33,1.16.3,FR1,20,3.95,2,1,Pellet,Left,4,4,4,0,1.45,7,NaN\n",
      "Data from COM16: 8/7/2024 17:14:29,28.07,40.25,1.16.3,FR1,20,3.95,NaN,1,Left,Left,5,4,4,0,NaN,NaN,0.00\n",
      "Data from COM16: 8/7/2024 17:14:32,28.09,40.33,1.16.3,FR1,20,3.95,2,1,Pellet,Left,5,4,5,0,0.33,73,NaN\n",
      "Data from COM16: 8/7/2024 17:14:34,28.09,40.35,1.16.3,FR1,20,3.95,NaN,1,Left,Left,6,4,5,0,NaN,NaN,0.01\n",
      "Data from COM16: 8/7/2024 17:14:40,28.10,40.43,1.16.3,FR1,20,3.95,3,1,Pellet,Left,6,4,6,0,0.59,8,NaN\n"
     ]
    }
   ],
   "source": [
    "import serial\n",
    "import threading\n",
    "\n",
    "def read_from_port(ser):\n",
    "    with open(f\"{ser.port}_log.txt\", \"w\") as logfile:\n",
    "        while True:\n",
    "            data = ser.readline().decode('utf-8').strip()\n",
    "            print(f\"Data from {ser.port}: {data}\")\n",
    "            logfile.write(data + \"\\n\")\n",
    "\n",
    "ports = [\"COM16\"]  # Replace with your COM ports\n",
    "baud_rate = 9600\n",
    "\n",
    "for port in ports:\n",
    "    ser = serial.Serial(port, baud_rate)\n",
    "    threading.Thread(target=read_from_port, args=(ser,)).start()\n"
   ]
  },
  {
   "cell_type": "code",
   "execution_count": 1,
   "metadata": {},
   "outputs": [
    {
     "name": "stdout",
     "output_type": "stream",
     "text": [
      "Data from COM16: 8/7/2024 17:21:05,28.68,39.67,1.16.3,FR1,20,3.96,NaN,1,Left,Left,9,4,8,0,NaN,NaN,0.01\n",
      "Data from COM16: 8/7/2024 17:21:36,28.71,39.59,1.16.3,FR1,20,3.95,11,1,Pellet,Left,9,4,9,0,1.45,60,NaN\n",
      "Data from COM16: 8/7/2024 17:21:45,28.72,39.69,1.16.3,FR1,20,3.95,NaN,1,Left,Left,10,4,9,0,NaN,NaN,0.00\n",
      "Data from COM16: 8/7/2024 17:22:20,28.69,39.37,1.16.3,FR1,20,3.95,12,1,Pellet,Left,10,4,10,0,0.26,44,NaN\n",
      "Data from COM16: 8/7/2024 17:22:22,28.67,39.29,1.16.3,FR1,20,3.95,NaN,1,Left,Left,11,4,10,0,NaN,NaN,0.00\n",
      "Data from COM16: 8/7/2024 17:22:25,28.69,39.23,1.16.3,FR1,20,3.95,2,1,Pellet,Left,11,4,11,0,0.59,4,NaN\n",
      "Data from COM16: 8/7/2024 17:23:52,28.72,39.51,1.16.3,FR1,20,3.95,NaN,1,Left,Left,12,4,11,0,NaN,NaN,0.10\n",
      "Data from COM16: 8/7/2024 17:24:00,28.72,39.25,1.16.3,FR1,20,3.96,5,1,Pellet,Left,12,4,12,0,0.33,96,NaN\n",
      "Data from COM16: 8/7/2024 17:24:04,28.72,39.20,1.16.3,FR1,20,3.95,NaN,1,Left,Left,13,4,12,0,NaN,NaN,0.00\n",
      "Data from COM16: 8/7/2024 17:24:07,28.70,39.21,1.16.3,FR1,20,3.95,3,1,Pellet,Left,13,4,13,0,0.13,7,NaN\n",
      "Data from COM16: 8/7/2024 17:24:10,28.70,39.22,1.16.3,FR1,20,3.96,NaN,1,Right,Left,13,5,13,0,NaN,NaN,0.12\n",
      "Data from COM16: 8/7/2024 17:24:10,28.71,39.22,1.16.3,FR1,20,3.96,NaN,1,Right,Left,13,6,13,0,NaN,NaN,0.00\n"
     ]
    }
   ],
   "source": [
    "import serial\n",
    "import threading\n",
    "import csv\n",
    "import os\n",
    "import time\n",
    "\n",
    "def read_from_port(ser):\n",
    "    # Define the CSV filename based on the COM port\n",
    "    csv_filename = f\"{ser.port}_log.csv\"\n",
    "\n",
    "    # Check if the file exists to determine if we need to write the header\n",
    "    file_exists = os.path.isfile(csv_filename)\n",
    "\n",
    "    with open(csv_filename, \"a\", newline='') as csvfile:\n",
    "        csvwriter = csv.writer(csvfile)\n",
    "\n",
    "        # Write the header if the file doesn't exist\n",
    "        if not file_exists:\n",
    "            csvwriter.writerow([\"Timestamp\", \"Port\", \"Data\"])\n",
    "\n",
    "        while True:\n",
    "            data = ser.readline().decode('utf-8').strip()\n",
    "            timestamp = time.strftime(\"%Y-%m-%d %H:%M:%S\")  # Get current timestamp\n",
    "            print(f\"Data from {ser.port}: {data}\")\n",
    "\n",
    "            # Write the data to the CSV file\n",
    "            csvwriter.writerow([timestamp, ser.port, data])\n",
    "            csvfile.flush()  # Ensure data is written to the file\n",
    "\n",
    "# Define your ports and baud rate\n",
    "ports = [\"COM16\"]  # Replace with your COM ports\n",
    "baud_rate = 9600\n",
    "\n",
    "# Start reading from each port in a separate thread\n",
    "for port in ports:\n",
    "    ser = serial.Serial(port, baud_rate)\n",
    "    threading.Thread(target=read_from_port, args=(ser,)).start()\n"
   ]
  },
  {
   "cell_type": "code",
   "execution_count": null,
   "metadata": {},
   "outputs": [],
   "source": []
  }
 ],
 "metadata": {
  "kernelspec": {
   "display_name": "Python 3 (ipykernel)",
   "language": "python",
   "name": "python3"
  },
  "language_info": {
   "codemirror_mode": {
    "name": "ipython",
    "version": 3
   },
   "file_extension": ".py",
   "mimetype": "text/x-python",
   "name": "python",
   "nbconvert_exporter": "python",
   "pygments_lexer": "ipython3",
   "version": "3.12.1"
  }
 },
 "nbformat": 4,
 "nbformat_minor": 4
}
