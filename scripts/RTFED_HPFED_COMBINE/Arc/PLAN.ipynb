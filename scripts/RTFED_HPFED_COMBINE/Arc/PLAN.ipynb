{
 "cells": [
  {
   "cell_type": "markdown",
   "id": "9c3110d1-7f35-4c31-ad0f-e885125e277d",
   "metadata": {},
   "source": [
    "\n",
    "### Step 1: Logging Data to Google Spreadsheet (Without TDT)\n",
    "Existing solution on **Windows** uses a system that:\n",
    "1. Logs data in real-time from the **FED3 devices** via serial communication.\n",
    "2. Updates the data to a **Google spreadsheet** online.\n",
    "3. Sends **JAM emails** in case of FED3 failure.\n",
    "\n",
    "I can **port this entire setup to Raspberry Pi** using:\n",
    "- **PySerial**: To capture data from FED3 devices.\n",
    "- **gspread** (Python API for Google Sheets): To push data to a Google spreadsheet.\n",
    "- **smtplib** or a third-party service like **SendGrid** to send JAM email alerts.\n",
    "\n",
    "This part can run autonomously on the Raspberry Pi whenever the TDT system is **not connected**.\n",
    "\n",
    "### Step 2: Integrating TDT and Switching Between Modes\n",
    "In addition to logging and sending data to Google Sheets, I can configure the Raspberry Pi to switch modes when connected to the TDT system for recording brain activity.\n",
    "\n",
    "1. **TDT Mode (with TTLs)**:\n",
    "    - When connected to TDT, the Raspberry Pi will read data from FED3 devices and simultaneously **send TTL signals**.\n",
    "    - Logging to **Google Sheets** can either continue in the background or be paused depending on the requirement.\n",
    "  \n",
    "2. **Non-TDT Mode**:\n",
    "    - When **not connected** to TDT, the Raspberry Pi will simply log data in real-time to **Google Sheets**.\n",
    "    - No TTL signals will be sent.\n",
    "\n",
    "This can be implemented with a **simple flag or mode switch** in the Python script to differentiate between TDT and non-TDT operation. For example, a config file or a command-line argument can set the mode.\n",
    "\n",
    "### Step 3: Setting Up the Raspberry Pi for Google Spreadsheet Integration\n",
    "To replicate the functionality of the existing RTFED system: \n",
    "1. **gspread**: This library allows to interact with Google Sheets from Python.\n",
    "   - Install with: `pip install gspread oauth2client`\n",
    "   - set up **Google Cloud API credentials** to access Google Sheets. This involves creating a project on Google Cloud, generating OAuth 2.0 credentials, and sharing the spreadsheet with the email provided by Google API.\n",
    "\n",
    "2. **Serial Communication (PySerial)**: Continue using the `serial` library on Raspberry Pi to capture data from FED3 devices.\n",
    "\n",
    "\n",
    "### High-Level Flow\n",
    "1. **Mode Selection**:\n",
    "   - When Raspberry Pi boots, it can check the **mode** (e.g., a config file or a switch input) and decide if it’s in **TDT mode** or **Non-TDT mode** (Google Spreadsheet mode).\n",
    "   \n",
    "2. **Non-TDT Mode**:\n",
    "   - The Raspberry Pi reads data from **FED3 devices** and sends it to the **Google spreadsheet** using **gspread**.\n",
    "   - Raspberry Pi monitors FED3 devices for failures and sends **JAM emails** using **smtplib** or **SendGrid** if any issues are detected.\n",
    "   \n",
    "3. **TDT Mode**:\n",
    "   - When connected to TDT, the Raspberry Pi reads data from **FED3 devices**, sends **TTL signals** to the TDT system, and **logs data locally** or sends it to Google Sheets.\n",
    "\n",
    "### Benefits:\n",
    "- **Single Device**: we can use a single Raspberry Pi for both **TDT and non-TDT** scenarios without needing additional hardware.\n",
    "- **Flexible**: we can toggle between TDT and **online logging** with a simple mode switch.\n",
    "- **Real-Time**: The system will still allow real-time logging of FED3 data to the Google spreadsheet, even if you’re not recording brain activity at that moment.\n",
    "\n",
    "### Final Considerations\n",
    "- **Power Supply**: Ensure that the Raspberry Pi and connected FED3 devices have adequate power, especially when running multiple devices.\n",
    "- **Storage/Memory**: The Pi’s memory and storage should be sufficient for handling serial communication, logging, and online integration simultaneously.\n",
    "- **Network Stability**: For the **Google Sheets integration** to work smoothly, ensure the Raspberry Pi is connected to a stable network.\n"
   ]
  },
  {
   "cell_type": "code",
   "execution_count": null,
   "id": "9b11c830-91bc-445e-909e-a7880fc6c127",
   "metadata": {},
   "outputs": [],
   "source": []
  }
 ],
 "metadata": {
  "kernelspec": {
   "display_name": "Python 3 (ipykernel)",
   "language": "python",
   "name": "python3"
  },
  "language_info": {
   "codemirror_mode": {
    "name": "ipython",
    "version": 3
   },
   "file_extension": ".py",
   "mimetype": "text/x-python",
   "name": "python",
   "nbconvert_exporter": "python",
   "pygments_lexer": "ipython3",
   "version": "3.12.1"
  }
 },
 "nbformat": 4,
 "nbformat_minor": 5
}
